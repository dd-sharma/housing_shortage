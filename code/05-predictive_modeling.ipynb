{
 "cells": [
  {
   "cell_type": "markdown",
   "id": "cd3eacc7-dbf0-464b-be57-6712c0f3c7d3",
   "metadata": {},
   "source": [
    "# Predictive Modeling"
   ]
  },
  {
   "cell_type": "code",
   "execution_count": 3,
   "id": "ec295efc-71fc-4990-81c0-4f8f95999dd9",
   "metadata": {},
   "outputs": [],
   "source": [
    "import pandas as pd\n",
    "import os\n",
    "import zipfile\n",
    "import numpy as np\n",
    "from sklearn.linear_model import LinearRegression\n",
    "from sklearn.ensemble import RandomForestRegressor, GradientBoostingRegressor\n",
    "from sklearn.pipeline import Pipeline\n",
    "from sklearn.model_selection import GridSearchCV, cross_val_score\n",
    "from sklearn.metrics import mean_squared_error, mean_absolute_error\n",
    "import matplotlib.pyplot as plt"
   ]
  },
  {
   "cell_type": "code",
   "execution_count": 4,
   "id": "24bd8ea5-7621-4cbc-b3cb-4f118861836a",
   "metadata": {},
   "outputs": [],
   "source": [
    "# Extract the zip file\n",
    "def extract_data(zip_file_path, extraction_dir):\n",
    "    with zipfile.ZipFile(zip_file_path, 'r') as zip_ref:\n",
    "        zip_ref.extractall(extraction_dir)"
   ]
  },
  {
   "cell_type": "code",
   "execution_count": 5,
   "id": "038a5096-07e8-4158-aed4-35e654df880a",
   "metadata": {},
   "outputs": [],
   "source": [
    "# Load datasets\n",
    "def load_datasets(data_dir):\n",
    "    valid_files = []\n",
    "    for root, dirs, files in os.walk(data_dir):\n",
    "        for file in files:\n",
    "            if file.endswith('.csv') and 'checkpoint' not in file:\n",
    "                valid_files.append(os.path.join(root, file))\n",
    "    datasets = {os.path.basename(file): pd.read_csv(file) for file in valid_files}\n",
    "    return datasets"
   ]
  },
  {
   "cell_type": "code",
   "execution_count": 6,
   "id": "26ed9454-39c2-46c3-ab8d-c04e8fcc22d8",
   "metadata": {},
   "outputs": [],
   "source": [
    "# Standardize key columns\n",
    "def standardize_columns(datasets):\n",
    "    for key, df in datasets.items():\n",
    "        if 'city' in df.columns:\n",
    "            df.rename(columns={'city': 'Metro_Area'}, inplace=True)\n",
    "        if 'NAME' in df.columns:\n",
    "            df.rename(columns={'NAME': 'Metro_Area'}, inplace=True)\n",
    "        if 'Geographic Area' in df.columns:\n",
    "            df.rename(columns={'Geographic Area': 'Metro_Area'}, inplace=True)\n",
    "        if 'MSA' in df.columns:\n",
    "            df.rename(columns={'MSA': 'Metro_Area'}, inplace=True)\n",
    "        if 'year' in df.columns:\n",
    "            df.rename(columns={'year': 'Year'}, inplace=True)\n",
    "    return datasets"
   ]
  },
  {
   "cell_type": "code",
   "execution_count": 7,
   "id": "b1b3f6bd-70c7-4ab1-96d4-1096f3382bc1",
   "metadata": {},
   "outputs": [],
   "source": [
    "# Map Metro_Area_Code to Metro_Area\n",
    "def map_metro_area_codes(datasets, code_to_area_mapping):\n",
    "    if 'msa_unemployment.csv' in datasets:\n",
    "        datasets['msa_unemployment.csv']['Metro_Area'] = datasets['msa_unemployment.csv']['Metro_Area_Code'].map(code_to_area_mapping)\n",
    "    if 'msa_wages.csv' in datasets:\n",
    "        datasets['msa_wages.csv']['Metro_Area'] = datasets['msa_wages.csv']['Metro_Area_Code'].map(code_to_area_mapping)\n",
    "    return datasets"
   ]
  },
  {
   "cell_type": "code",
   "execution_count": 8,
   "id": "6ede7c53-8048-40ff-8171-7cf43511bbca",
   "metadata": {},
   "outputs": [],
   "source": [
    "# Aggregate temporal data to yearly\n",
    "def aggregate_to_yearly(datasets):\n",
    "    for key, df in datasets.items():\n",
    "        if 'DATE' in df.columns:\n",
    "            df['Year'] = pd.to_datetime(df['DATE']).dt.year\n",
    "            df.drop(columns=['DATE'], inplace=True)\n",
    "        if 'Month of Period End' in df.columns:\n",
    "            df['Year'] = pd.to_datetime(df['Month of Period End']).dt.year\n",
    "            df.drop(columns=['Month of Period End'], inplace=True)\n",
    "    return datasets"
   ]
  },
  {
   "cell_type": "code",
   "execution_count": 9,
   "id": "21dca743-e067-4cd0-8c20-fefe49f2cbe2",
   "metadata": {},
   "outputs": [],
   "source": [
    "# Merge datasets\n",
    "def merge_datasets(datasets, base_key):\n",
    "    base_df = datasets[base_key]\n",
    "    for key, df in datasets.items():\n",
    "        if key != base_key:\n",
    "            common_cols = set(['Metro_Area', 'Year']).intersection(df.columns)\n",
    "            if common_cols:\n",
    "                base_df = pd.merge(base_df, df, on=list(common_cols), how='left')\n",
    "    return base_df\n"
   ]
  },
  {
   "cell_type": "code",
   "execution_count": 10,
   "id": "532a5d6a-20e7-4c3d-aa05-df746b29a82e",
   "metadata": {},
   "outputs": [
    {
     "name": "stdout",
     "output_type": "stream",
     "text": [
      "Merged dataset shape: (360, 179)\n",
      "                        Metro_Area  Year       A1        A2        A3  \\\n",
      "0          New York city, New York  2008  83720.0  593130.0  676850.0   \n",
      "1          Camden city, New Jersey  2008   1960.0    7455.0    9415.0   \n",
      "2     Jersey City city, New Jersey  2008   1445.0   15700.0   17145.0   \n",
      "3          Newark city, New Jersey  2008   2715.0   26660.0   29375.0   \n",
      "4  Philadelphia city, Pennsylvania  2008  59145.0  100900.0  160045.0   \n",
      "\n",
      "        A4        A5        A6        A7        A8  ...  B07201_001E  \\\n",
      "0  93570.0  318565.0  412135.0  150230.0  361385.0  ...          NaN   \n",
      "1   2115.0    3030.0    5145.0    2390.0    1945.0  ...          NaN   \n",
      "2   2060.0    8590.0   10650.0    3855.0   10265.0  ...          NaN   \n",
      "3   2875.0   13935.0   16810.0    3990.0   10715.0  ...          NaN   \n",
      "4  44255.0   43115.0   87370.0   61930.0   47730.0  ...          NaN   \n",
      "\n",
      "   POPULATION  Base Population (2020)  Population  GEOID  STATE_NAME  \\\n",
      "0         NaN                     NaN         NaN    NaN         NaN   \n",
      "1         NaN                     NaN         NaN    NaN         NaN   \n",
      "2         NaN                     NaN         NaN    NaN         NaN   \n",
      "3         NaN                     NaN         NaN    NaN         NaN   \n",
      "4         NaN                     NaN         NaN    NaN         NaN   \n",
      "\n",
      "   Year_Permit_Type  Permits  Permit_Type  Rolling_Avg_Permits  \n",
      "0               NaN      NaN          NaN                  NaN  \n",
      "1               NaN      NaN          NaN                  NaN  \n",
      "2               NaN      NaN          NaN                  NaN  \n",
      "3               NaN      NaN          NaN                  NaN  \n",
      "4               NaN      NaN          NaN                  NaN  \n",
      "\n",
      "[5 rows x 179 columns]\n"
     ]
    }
   ],
   "source": [
    "# Main execution\n",
    "zip_file_path = '../data/preprocessed_data.zip'\n",
    "extraction_dir = '../data/preprocessed_data/'\n",
    "data_dir = os.path.join(extraction_dir, 'preprocessed_data')\n",
    "\n",
    "# Extract data\n",
    "extract_data(zip_file_path, extraction_dir)\n",
    "\n",
    "# Load datasets\n",
    "datasets = load_datasets(data_dir)\n",
    "\n",
    "# Standardize columns\n",
    "datasets = standardize_columns(datasets)\n",
    "\n",
    "# Define a mapping for Metro_Area_Code (example mapping, extend as needed)\n",
    "code_to_area_mapping = {\n",
    "    'ATLA013URN': 'Atlanta-Sandy Springs-Roswell',\n",
    "    'ENUC120640010SA': 'Atlanta-Sandy Springs-Roswell',\n",
    "}\n",
    "\n",
    "# Map Metro_Area_Code to Metro_Area\n",
    "datasets = map_metro_area_codes(datasets, code_to_area_mapping)\n",
    "\n",
    "# Aggregate data to yearly\n",
    "datasets = aggregate_to_yearly(datasets)\n",
    "\n",
    "# Merge datasets with cost burden as the base\n",
    "base_df = merge_datasets(datasets, 'cost_burden_preprocessed.csv')\n",
    "\n",
    "# Inspect the merged dataset\n",
    "base_df_shape = base_df.shape\n",
    "base_df_preview = base_df.head()\n",
    "\n",
    "print(f\"Merged dataset shape: {base_df_shape}\")\n",
    "print(base_df_preview)"
   ]
  },
  {
   "cell_type": "code",
   "execution_count": 11,
   "id": "49600072-f17c-4fd4-b6ac-12346b811be0",
   "metadata": {},
   "outputs": [
    {
     "data": {
      "text/plain": [
       "((360, 131),\n",
       "                         metro_area  year       a1        a2        a3  \\\n",
       " 0          New York city, New York  2008  83720.0  593130.0  676850.0   \n",
       " 1          Camden city, New Jersey  2008   1960.0    7455.0    9415.0   \n",
       " 2     Jersey City city, New Jersey  2008   1445.0   15700.0   17145.0   \n",
       " 3          Newark city, New Jersey  2008   2715.0   26660.0   29375.0   \n",
       " 4  Philadelphia city, Pennsylvania  2008  59145.0  100900.0  160045.0   \n",
       " \n",
       "         a4        a5        a6        a7        a8  ...       j2       j4  \\\n",
       " 0  93570.0  318565.0  412135.0  150230.0  361385.0  ...  59335.0  69405.0   \n",
       " 1   2115.0    3030.0    5145.0    2390.0    1945.0  ...   1305.0   1185.0   \n",
       " 2   2060.0    8590.0   10650.0    3855.0   10265.0  ...   1235.0   1830.0   \n",
       " 3   2875.0   13935.0   16810.0    3990.0   10715.0  ...   2235.0   2515.0   \n",
       " 4  44255.0   43115.0   87370.0   61930.0   47730.0  ...  29985.0  21565.0   \n",
       " \n",
       "         j5       j7       j8      j10      j11       j13      j14       j16  \n",
       " 0  45650.0  86260.0  52840.0  47235.0  21345.0  120440.0  27150.0  392250.0  \n",
       " 1    435.0    915.0    250.0    110.0     35.0     200.0     45.0    4010.0  \n",
       " 2   1325.0   2880.0   1780.0   1835.0   1070.0    5850.0    925.0   13645.0  \n",
       " 3   1585.0   2835.0   1790.0   1725.0    685.0    3295.0    760.0   12830.0  \n",
       " 4   9970.0  20300.0   4460.0   6210.0    725.0    8405.0    660.0   99660.0  \n",
       " \n",
       " [5 rows x 131 columns])"
      ]
     },
     "execution_count": 11,
     "metadata": {},
     "output_type": "execute_result"
    }
   ],
   "source": [
    "# Step 1: Data Cleaning\n",
    "\n",
    "# 1. Identify missing values in the dataset\n",
    "missing_summary = base_df.isnull().mean().sort_values(ascending=False)\n",
    "\n",
    "# Drop columns with more than 50% missing values\n",
    "threshold = 0.5\n",
    "columns_to_drop = missing_summary[missing_summary > threshold].index.tolist()\n",
    "cleaned_df = base_df.drop(columns=columns_to_drop)\n",
    "\n",
    "# 2. Remove non-predictive columns\n",
    "# Identify potential non-predictive columns (e.g., identifiers, metadata)\n",
    "non_predictive_columns = ['source_file', 'GEOID', 'STATE_NAME', 'Year_Permit_Type', 'Permit_Type']\n",
    "cleaned_df = cleaned_df.drop(columns=[col for col in non_predictive_columns if col in cleaned_df.columns])\n",
    "\n",
    "# 3. Simplify and normalize column names\n",
    "cleaned_df.columns = (\n",
    "    cleaned_df.columns.str.replace(\" \", \"_\")\n",
    "    .str.replace(\"-\", \"_\")\n",
    "    .str.replace(\"(\", \"\")\n",
    "    .str.replace(\")\", \"\")\n",
    "    .str.lower()\n",
    ")\n",
    "\n",
    "# Display summary of changes and the cleaned dataset\n",
    "cleaned_df_shape = cleaned_df.shape\n",
    "cleaned_df_preview = cleaned_df.head()\n",
    "cleaned_df_shape, cleaned_df_preview"
   ]
  },
  {
   "cell_type": "code",
   "execution_count": 12,
   "id": "85a33c1c-8477-407e-9db3-e3ebd82da127",
   "metadata": {},
   "outputs": [
    {
     "data": {
      "text/plain": [
       "({'Affordability': ['a1',\n",
       "   'a2',\n",
       "   'a3',\n",
       "   'a4',\n",
       "   'a5',\n",
       "   'a6',\n",
       "   'a7',\n",
       "   'a8',\n",
       "   'a9',\n",
       "   'a10',\n",
       "   'a11',\n",
       "   'a12',\n",
       "   'a13',\n",
       "   'a14',\n",
       "   'a15',\n",
       "   'a16',\n",
       "   'a17',\n",
       "   'a18'],\n",
       "  'Supply': [],\n",
       "  'Economic': [],\n",
       "  'Migration/Population': []},\n",
       " (360, 20),\n",
       "         a1        a2        a3       a4        a5        a6        a7  \\\n",
       " 0  83720.0  593130.0  676850.0  93570.0  318565.0  412135.0  150230.0   \n",
       " 1   1960.0    7455.0    9415.0   2115.0    3030.0    5145.0    2390.0   \n",
       " 2   1445.0   15700.0   17145.0   2060.0    8590.0   10650.0    3855.0   \n",
       " 3   2715.0   26660.0   29375.0   2875.0   13935.0   16810.0    3990.0   \n",
       " 4  59145.0  100900.0  160045.0  44255.0   43115.0   87370.0   61930.0   \n",
       " \n",
       "          a8        a9      a10       a11       a12       a13       a14  \\\n",
       " 0  361385.0  511615.0  98295.0  181390.0  279685.0  580840.0  586125.0   \n",
       " 1    1945.0    4335.0   1515.0     615.0    2130.0    2575.0    1690.0   \n",
       " 2   10265.0   14120.0   2850.0    5220.0    8070.0   19705.0   23340.0   \n",
       " 3   10715.0   14705.0   2750.0    6280.0    9030.0   11065.0   11630.0   \n",
       " 4   47730.0  109660.0  34085.0   21125.0   55210.0  118340.0   43865.0   \n",
       " \n",
       "          a15        a16        a17        a18  year  \\\n",
       " 0  1166965.0  1006655.0  2040590.0  3047250.0  2008   \n",
       " 1     4265.0    10555.0    14730.0    25285.0  2008   \n",
       " 2    43045.0    29910.0    63115.0    93025.0  2008   \n",
       " 3    22695.0    23395.0    69220.0    92620.0  2008   \n",
       " 4   162205.0   317755.0   256735.0   574490.0  2008   \n",
       " \n",
       "                         metro_area  \n",
       " 0          New York city, New York  \n",
       " 1          Camden city, New Jersey  \n",
       " 2     Jersey City city, New Jersey  \n",
       " 3          Newark city, New Jersey  \n",
       " 4  Philadelphia city, Pennsylvania  )"
      ]
     },
     "execution_count": 12,
     "metadata": {},
     "output_type": "execute_result"
    }
   ],
   "source": [
    "# Step 2: Feature Selection\n",
    "\n",
    "# Identify columns that could be relevant to affordable housing shortages\n",
    "# Group features into categories (affordability, supply-demand, economic factors, etc.)\n",
    "affordability_features = [col for col in cleaned_df.columns if 'a' in col and col not in ['year', 'metro_area']]\n",
    "supply_features = [col for col in cleaned_df.columns if 'permit' in col or 'construction' in col]\n",
    "economic_features = [col for col in cleaned_df.columns if 'wage' in col or 'unemployment' in col]\n",
    "migration_population_features = [col for col in cleaned_df.columns if 'population' in col or 'migration' in col]\n",
    "\n",
    "# Combine selected features into a single list for modeling\n",
    "selected_features = (\n",
    "    affordability_features\n",
    "    + supply_features\n",
    "    + economic_features\n",
    "    + migration_population_features\n",
    "    + ['year', 'metro_area']  # Retain year and metro area for context\n",
    ")\n",
    "\n",
    "# Subset the cleaned dataframe to include only the selected features\n",
    "modeling_df = cleaned_df[selected_features]\n",
    "\n",
    "# Display the selected features and the subset dataframe\n",
    "selected_features_summary = {\n",
    "    \"Affordability\": affordability_features,\n",
    "    \"Supply\": supply_features,\n",
    "    \"Economic\": economic_features,\n",
    "    \"Migration/Population\": migration_population_features,\n",
    "}\n",
    "\n",
    "modeling_df_shape = modeling_df.shape\n",
    "modeling_df_preview = modeling_df.head()\n",
    "\n",
    "selected_features_summary, modeling_df_shape, modeling_df_preview"
   ]
  },
  {
   "cell_type": "code",
   "execution_count": 13,
   "id": "4ff8de87-3f50-4d75-af91-8c81dc5c4551",
   "metadata": {},
   "outputs": [
    {
     "data": {
      "text/plain": [
       "({'Affordability': ['a1',\n",
       "   'a2',\n",
       "   'a3',\n",
       "   'a4',\n",
       "   'a5',\n",
       "   'a6',\n",
       "   'a7',\n",
       "   'a8',\n",
       "   'a9',\n",
       "   'a10',\n",
       "   'a11',\n",
       "   'a12',\n",
       "   'a13',\n",
       "   'a14',\n",
       "   'a15',\n",
       "   'a16',\n",
       "   'a17',\n",
       "   'a18'],\n",
       "  'Supply': [],\n",
       "  'Economic': [],\n",
       "  'Migration/Population': []},\n",
       " (360, 20),\n",
       "         a1        a2        a3       a4        a5        a6        a7  \\\n",
       " 0  83720.0  593130.0  676850.0  93570.0  318565.0  412135.0  150230.0   \n",
       " 1   1960.0    7455.0    9415.0   2115.0    3030.0    5145.0    2390.0   \n",
       " 2   1445.0   15700.0   17145.0   2060.0    8590.0   10650.0    3855.0   \n",
       " 3   2715.0   26660.0   29375.0   2875.0   13935.0   16810.0    3990.0   \n",
       " 4  59145.0  100900.0  160045.0  44255.0   43115.0   87370.0   61930.0   \n",
       " \n",
       "          a8        a9      a10       a11       a12       a13       a14  \\\n",
       " 0  361385.0  511615.0  98295.0  181390.0  279685.0  580840.0  586125.0   \n",
       " 1    1945.0    4335.0   1515.0     615.0    2130.0    2575.0    1690.0   \n",
       " 2   10265.0   14120.0   2850.0    5220.0    8070.0   19705.0   23340.0   \n",
       " 3   10715.0   14705.0   2750.0    6280.0    9030.0   11065.0   11630.0   \n",
       " 4   47730.0  109660.0  34085.0   21125.0   55210.0  118340.0   43865.0   \n",
       " \n",
       "          a15        a16        a17        a18  year  \\\n",
       " 0  1166965.0  1006655.0  2040590.0  3047250.0  2008   \n",
       " 1     4265.0    10555.0    14730.0    25285.0  2008   \n",
       " 2    43045.0    29910.0    63115.0    93025.0  2008   \n",
       " 3    22695.0    23395.0    69220.0    92620.0  2008   \n",
       " 4   162205.0   317755.0   256735.0   574490.0  2008   \n",
       " \n",
       "                         metro_area  \n",
       " 0          New York city, New York  \n",
       " 1          Camden city, New Jersey  \n",
       " 2     Jersey City city, New Jersey  \n",
       " 3          Newark city, New Jersey  \n",
       " 4  Philadelphia city, Pennsylvania  )"
      ]
     },
     "execution_count": 13,
     "metadata": {},
     "output_type": "execute_result"
    }
   ],
   "source": [
    "# Step 3: Adjust Feature Selection Based on Data Dictionaries\n",
    "\n",
    "# Update feature groups using insights from the provided data dictionaries\n",
    "supply_features = [col for col in cleaned_df.columns if 'permit' in col or 'construction' in col]\n",
    "economic_features = [col for col in cleaned_df.columns if 'wage' in col or 'unemployment' in col]\n",
    "migration_population_features = [\n",
    "    col for col in cleaned_df.columns if 'population' in col or 'migration' in col\n",
    "]\n",
    "\n",
    "# Combine updated features for modeling\n",
    "selected_features = (\n",
    "    affordability_features\n",
    "    + supply_features\n",
    "    + economic_features\n",
    "    + migration_population_features\n",
    "    + ['year', 'metro_area']  # Retain year and metro area for context\n",
    ")\n",
    "\n",
    "# Subset the cleaned dataframe with the updated features\n",
    "adjusted_modeling_df = cleaned_df[selected_features]\n",
    "\n",
    "# Display summary of adjustments\n",
    "adjusted_features_summary = {\n",
    "    \"Affordability\": affordability_features,\n",
    "    \"Supply\": supply_features,\n",
    "    \"Economic\": economic_features,\n",
    "    \"Migration/Population\": migration_population_features,\n",
    "}\n",
    "\n",
    "adjusted_modeling_df_shape = adjusted_modeling_df.shape\n",
    "adjusted_modeling_df_preview = adjusted_modeling_df.head()\n",
    "\n",
    "adjusted_features_summary, adjusted_modeling_df_shape, adjusted_modeling_df_preview"
   ]
  },
  {
   "cell_type": "code",
   "execution_count": 14,
   "id": "63c51ac2-a15b-4874-a92f-8c07f45036db",
   "metadata": {},
   "outputs": [],
   "source": [
    "# Step 4: Extrapolate Features for 2025–2030\n",
    "# Define forecast years\n",
    "forecast_years = np.arange(2025, 2031)  # Years for forecasting\n",
    "forecast_data = []"
   ]
  },
  {
   "cell_type": "code",
   "execution_count": 15,
   "id": "fb162965-651d-484a-a30c-3d7440fe9fcb",
   "metadata": {},
   "outputs": [],
   "source": [
    "for metro_area in adjusted_modeling_df[\"metro_area\"].unique():\n",
    "    # Filter data for the current metro area\n",
    "    metro_data = adjusted_modeling_df[adjusted_modeling_df[\"metro_area\"] == metro_area]\n",
    "    metro_features = metro_data.drop(columns=[\"year\", \"metro_area\"])\n",
    "    \n",
    "    # Calculate linear trends for each feature\n",
    "    trends = metro_features.mean(axis=0)  # Simple trend assumption; refine as needed\n",
    "    extrapolated_features = [trends.values for _ in forecast_years]\n",
    "    \n",
    "    # Combine extrapolated data into a dataframe\n",
    "    forecast_df = pd.DataFrame(\n",
    "        extrapolated_features,\n",
    "        columns=metro_features.columns,\n",
    "        index=forecast_years,\n",
    "    ).reset_index().rename(columns={\"index\": \"year\"})\n",
    "    forecast_df[\"metro_area\"] = metro_area\n",
    "    \n",
    "    # Append to forecast data\n",
    "    forecast_data.append(forecast_df)"
   ]
  },
  {
   "cell_type": "code",
   "execution_count": 16,
   "id": "bb0024ad-e900-4f49-b190-52d584bddd88",
   "metadata": {},
   "outputs": [],
   "source": [
    "# Combine forecast data into a single dataframe\n",
    "forecast_df = pd.concat(forecast_data, ignore_index=True)\n",
    "\n",
    "# Add extrapolated features to the dataset\n",
    "extended_df = pd.concat([adjusted_modeling_df, forecast_df], ignore_index=True)"
   ]
  },
  {
   "cell_type": "code",
   "execution_count": 17,
   "id": "090888d5-acde-42ac-af6d-b94f7b659920",
   "metadata": {},
   "outputs": [],
   "source": [
    "# Step 5: Define the Target Variable\n",
    "\n",
    "# Use a derived shortage indicator: ratio of cost-burdened households to total households (proxy: a18 / a1)\n",
    "extended_df['shortage_indicator'] = extended_df['a18'] / (extended_df['a1'] + 1e-6)  # Avoid division by zero"
   ]
  },
  {
   "cell_type": "code",
   "execution_count": 18,
   "id": "9a3436ce-a594-4176-b825-2d28f84d7029",
   "metadata": {},
   "outputs": [
    {
     "data": {
      "text/plain": [
       "{'Training Features': (360, 18),\n",
       " 'Training Target': (360,),\n",
       " 'Testing Features': (180, 18),\n",
       " 'Testing Target': (180,)}"
      ]
     },
     "execution_count": 18,
     "metadata": {},
     "output_type": "execute_result"
    }
   ],
   "source": [
    "# Step 6: Train-Test Splitting\n",
    "\n",
    "# Split into training (pre-2025) and testing (2025–2030) sets\n",
    "train_df = extended_df[extended_df[\"year\"] < 2025]\n",
    "test_df = extended_df[extended_df[\"year\"] >= 2025]\n",
    "\n",
    "# Separate features (X) and target (y)\n",
    "X_train = train_df.drop(columns=[\"metro_area\", \"year\", \"shortage_indicator\"])\n",
    "y_train = train_df[\"shortage_indicator\"]\n",
    "X_test = test_df.drop(columns=[\"metro_area\", \"year\", \"shortage_indicator\"])\n",
    "y_test = test_df[\"shortage_indicator\"]\n",
    "\n",
    "# Verify data shapes and preview\n",
    "train_test_shapes = {\n",
    "    \"Training Features\": X_train.shape,\n",
    "    \"Training Target\": y_train.shape,\n",
    "    \"Testing Features\": X_test.shape,\n",
    "    \"Testing Target\": y_test.shape,\n",
    "}\n",
    "train_test_shapes"
   ]
  },
  {
   "cell_type": "code",
   "execution_count": 19,
   "id": "6e78ca29-671a-40ff-b929-c815a18c45c8",
   "metadata": {},
   "outputs": [],
   "source": [
    "# Step 7: Train and Evaluate Models\n",
    "\n",
    "# Define models\n",
    "models = {\n",
    "    \"Linear Regression\": LinearRegression(),\n",
    "    \"Random Forest\": RandomForestRegressor(random_state=42),\n",
    "    \"Gradient Boosting\": GradientBoostingRegressor(random_state=42)\n",
    "}"
   ]
  },
  {
   "cell_type": "code",
   "execution_count": 20,
   "id": "c8981ad5-d5b5-45b9-a270-8f87ec837d5e",
   "metadata": {},
   "outputs": [
    {
     "name": "stderr",
     "output_type": "stream",
     "text": [
      "C:\\Users\\deeps\\anaconda3\\Lib\\site-packages\\sklearn\\metrics\\_regression.py:492: FutureWarning: 'squared' is deprecated in version 1.4 and will be removed in 1.6. To calculate the root mean squared error, use the function'root_mean_squared_error'.\n",
      "  warnings.warn(\n",
      "C:\\Users\\deeps\\anaconda3\\Lib\\site-packages\\sklearn\\metrics\\_regression.py:492: FutureWarning: 'squared' is deprecated in version 1.4 and will be removed in 1.6. To calculate the root mean squared error, use the function'root_mean_squared_error'.\n",
      "  warnings.warn(\n",
      "C:\\Users\\deeps\\anaconda3\\Lib\\site-packages\\sklearn\\metrics\\_regression.py:492: FutureWarning: 'squared' is deprecated in version 1.4 and will be removed in 1.6. To calculate the root mean squared error, use the function'root_mean_squared_error'.\n",
      "  warnings.warn(\n"
     ]
    }
   ],
   "source": [
    "# Define hyperparameter grids\n",
    "param_grids = {\n",
    "    \"Random Forest\": {\"n_estimators\": [100, 200], \"max_depth\": [None, 10, 20]},\n",
    "    \"Gradient Boosting\": {\"n_estimators\": [100, 200], \"learning_rate\": [0.05, 0.1], \"max_depth\": [3, 5]}\n",
    "}\n",
    "\n",
    "# Train and evaluate models\n",
    "results = {}\n",
    "\n",
    "for name, model in models.items():\n",
    "    if name in param_grids:\n",
    "        # Use grid search for models with hyperparameters\n",
    "        grid_search = GridSearchCV(model, param_grids[name], cv=5, scoring='neg_mean_squared_error', n_jobs=-1)\n",
    "        grid_search.fit(X_train, y_train)\n",
    "        best_model = grid_search.best_estimator_\n",
    "        results[name] = {\"Best Parameters\": grid_search.best_params_}\n",
    "    else:\n",
    "        # Initialize an empty result for simpler models\n",
    "        results[name] = {}\n",
    "        best_model = model.fit(X_train, y_train)\n",
    "    \n",
    "    # Cross-validation scores\n",
    "    cv_scores = cross_val_score(best_model, X_train, y_train, cv=5, scoring=\"neg_mean_squared_error\")\n",
    "    results[name][\"CV RMSE\"] = (-cv_scores.mean()) ** 0.5\n",
    "    \n",
    "    # Predictions and evaluation on the test set\n",
    "    y_pred = best_model.predict(X_test)\n",
    "    results[name][\"Test RMSE\"] = mean_squared_error(y_test, y_pred, squared=False)\n",
    "    results[name][\"Test MAE\"] = mean_absolute_error(y_test, y_pred)\n",
    "    results[name][\"Predictions\"] = y_pred"
   ]
  },
  {
   "cell_type": "code",
   "execution_count": 21,
   "id": "48b35473-e21e-41ae-ac90-be77fa3d2a7e",
   "metadata": {},
   "outputs": [],
   "source": [
    "# Step 8: Compile Evaluation Results\n",
    "evaluation_results = {name: {k: v for k, v in details.items() if k != \"Predictions\"} for name, details in results.items()}"
   ]
  },
  {
   "cell_type": "code",
   "execution_count": 22,
   "id": "9ab78fde-b1d2-4dfd-b333-4ee6ae5fc26a",
   "metadata": {},
   "outputs": [
    {
     "data": {
      "image/png": "[encoded data removed]",
      "text/plain": [
       "<Figure size 1200x600 with 1 Axes>"
      ]
     },
     "metadata": {},
     "output_type": "display_data"
    }
   ],
   "source": [
    "# Step 9: Plot Predicted vs. Actual Shortage Indicators\n",
    "plt.figure(figsize=(12, 6))\n",
    "for name, details in results.items():\n",
    "    plt.scatter(y_test, details[\"Predictions\"], label=name)\n",
    "plt.plot([y_test.min(), y_test.max()], [y_test.min(), y_test.max()], \"k--\", lw=2, label=\"Perfect Prediction\")\n",
    "plt.xlabel(\"Actual Shortage Indicator\")\n",
    "plt.ylabel(\"Predicted Shortage Indicator\")\n",
    "plt.title(\"Predicted vs. Actual Shortage Indicators\")\n",
    "plt.legend()\n",
    "# Save and display the plot\n",
    "plot_directory = \"../plots\"\n",
    "os.makedirs(plot_directory, exist_ok=True)\n",
    "plot_filename = \"Predicted vs.Actual Shortage Indicators.png\"\n",
    "plt.tight_layout()\n",
    "plt.savefig(f\"{plot_filename}\")\n",
    "plt.show()"
   ]
  },
  {
   "cell_type": "code",
   "execution_count": 23,
   "id": "6167fb2c-f637-42b6-a831-3a45047d0564",
   "metadata": {},
   "outputs": [
    {
     "data": {
      "text/plain": [
       "{'Linear Regression': {'CV RMSE': 11.199085810745709,\n",
       "  'Test RMSE': 9.185911003447286,\n",
       "  'Test MAE': 7.40682079375169},\n",
       " 'Random Forest': {'Best Parameters': {'max_depth': None, 'n_estimators': 200},\n",
       "  'CV RMSE': 4.359842366932261,\n",
       "  'Test RMSE': 1.3622785904775134,\n",
       "  'Test MAE': 0.9399680720505693},\n",
       " 'Gradient Boosting': {'Best Parameters': {'learning_rate': 0.1,\n",
       "   'max_depth': 3,\n",
       "   'n_estimators': 200},\n",
       "  'CV RMSE': 4.0320778870640215,\n",
       "  'Test RMSE': 1.94473738522925,\n",
       "  'Test MAE': 1.3382545545308835}}"
      ]
     },
     "execution_count": 23,
     "metadata": {},
     "output_type": "execute_result"
    }
   ],
   "source": [
    "# Display evaluation results\n",
    "evaluation_results"
   ]
  },
  {
   "cell_type": "markdown",
   "id": "2741bd73-7a7e-49af-aa6e-413fea1df8d8",
   "metadata": {},
   "source": [
    "### Shortage Indicator\n",
    "\n",
    "`# Use a derived shortage indicator: ratio of cost-burdened households to total households (proxy: a18 / a1)`\n",
    "\n",
    "`extended_df['shortage_indicator'] = extended_df['a18'] / (extended_df['a1'] + 1e-6)  # Avoid division by zero`\n",
    "\n",
    "- a18: This represents the number of cost-burdened households, i.e., households that are paying more than a certain percentage of their income on housing costs.\n",
    "- a1: This represents the total number of households in the metro area.\n",
    "\n",
    "How the Shortage Indicator is Calculated:\n",
    "The shortage indicator is defined as the ratio of cost-burdened households to total households. This gives a sense of the proportion of households facing affordability issues.\n",
    "\n",
    "Why the Values Range from 10 to 50:\n",
    "\n",
    "1. Cost-Burdened Households Relative to Total Households:\n",
    "    - If the ratio of cost-burdened households (a18) to total households (a1) is relatively low (e.g., 10-20%), the shortage indicator will also be low, possibly around 10.\n",
    "    - If a significant proportion of households are cost-burdened (e.g., 50% or more), the shortage indicator will be higher, and this can explain why you see values in the range of 10 to 50.\n",
    "2. Scaling Factor (1e-6):\n",
    "    - The small constant 1e-6 is added to avoid division by zero if there are any metro areas with zero total households. This helps prevent errors but doesn’t significantly affect the scale of the values.\n",
    "3. Data Distribution:\n",
    "    - The resulting shortage indicator might fall within the 10-50 range based on the distribution of cost-burdened households. For instance, metro areas with high housing costs relative to income (and hence more cost-burdened households) would have higher values, which naturally fall within this range.\n",
    "  \n",
    "The range of 10 to 50 on the y-axis and x-axis is the result of how the shortage indicator was defined, based on the ratio of cost-burdened households to total households. This scale is a measure of housing affordability stress, and higher values indicate higher shortage levels."
   ]
  },
  {
   "cell_type": "markdown",
   "id": "8c7212d2-966a-4307-a9a9-13faac5469fd",
   "metadata": {},
   "source": [
    "#### Model Interpretation\n",
    "\n",
    "1. Models Comparison:\n",
    "- Points closer to the dashed line (\"Perfect Prediction\") indicate more accurate predictions.\n",
    "- In this case, the Random Forest and Gradient Boosting models perform better than Linear Regression, as their points cluster closer to the line.\n",
    "\n",
    "2. Metrics Interpretation:\n",
    "- Root Mean Squared Error (RMSE) = Measures the average magnitude of prediction errors, with larger errors penalized more due to squaring.\n",
    "    - Lower RMSE indicates better performance.\n",
    "        - Random Forest: 1.36 (best performance on the test set).\n",
    "        - Gradient Boosting: 1.94 (close performance).\n",
    "        - Linear Regression: 9.19 (least accurate).\n",
    "- Mean Absolute Error (MAE):\n",
    "    - Measures the average absolute prediction error, treating all errors equally.\n",
    "    - Random Forest and Gradient Boosting also perform better here:\n",
    "        - Random Forest: 0.94 (lowest error).\n",
    "        - Gradient Boosting: 1.34.\n",
    "        - Linear Regression: 7.40 (worst).\n",
    "- Cross-Validation RMSE:\n",
    "    - Evaluates model consistency across training splits:\n",
    "    - Gradient Boosting has the lowest CV RMSE (4.03), followed closely by Random Forest (4.36).\n",
    "    - Linear Regression has a high CV RMSE (11.20), indicating poorer generalization.\n",
    "\n",
    "Conclusion:\n",
    "\n",
    "- Best Model is Random Forest performs best overall with the lowest test RMSE and MAE.\n",
    "- Gradient Boosting: Also performs well and might be preferred if interpretability or smaller datasets are a concern.\n",
    "- Linear Regression: Performs poorly compared to the other models, likely due to its simplicity and inability to capture complex relationships."
   ]
  },
  {
   "cell_type": "markdown",
   "id": "ba175b81-f642-47ee-9679-eb4016905065",
   "metadata": {},
   "source": [
    "To identify which Metropolitan Statistical Areas (MSAs) are at risk of affordable housing shortages:\n",
    "\n",
    "Use Predictions:\n",
    "\n",
    "Look at the predicted shortage indicator (y_pred) for each MSA in the test set (2025–2030).\n",
    "- Set a threshold to classify MSAs at risk, such as:\n",
    "- Top 20% of predicted shortage indicators.\n",
    "- Shortage indicator above a predefined value (e.g., 30).\n",
    "\n",
    "Rank MSAs:\n",
    "- Rank MSAs based on their predicted shortage indicators for each year.\n",
    "- Highlight MSAs with the highest risk for future years.\n",
    "\n",
    "Summarize by Time Period:\n",
    "- Summarize results by year to see trends in predicted shortages."
   ]
  },
  {
   "cell_type": "code",
   "execution_count": 26,
   "id": "a0796c22-998c-4f87-bd70-82d249ecf7b3",
   "metadata": {},
   "outputs": [
    {
     "name": "stderr",
     "output_type": "stream",
     "text": [
      "C:\\Users\\deeps\\AppData\\Local\\Temp\\ipykernel_31556\\3733302797.py:5: SettingWithCopyWarning: \n",
      "A value is trying to be set on a copy of a slice from a DataFrame.\n",
      "Try using .loc[row_indexer,col_indexer] = value instead\n",
      "\n",
      "See the caveats in the documentation: https://pandas.pydata.org/pandas-docs/stable/user_guide/indexing.html#returning-a-view-versus-a-copy\n",
      "  test_df[\"predicted_shortage_indicator\"] = rf_predictions\n"
     ]
    }
   ],
   "source": [
    "# Step 10: Identify High-Risk MSAs for Affordable Housing Shortages\n",
    "\n",
    "# Add predictions back to the test dataset for analysis (e.g., Random Forest model)\n",
    "rf_predictions = results[\"Random Forest\"][\"Predictions\"]\n",
    "test_df[\"predicted_shortage_indicator\"] = rf_predictions\n",
    "\n",
    "# Define a threshold for high-risk MSAs (e.g., top 20% of predictions)\n",
    "threshold = np.percentile(rf_predictions, 80)  # Top 20% cutoff\n",
    "\n",
    "# Identify high-risk MSAs\n",
    "high_risk_msas = test_df[test_df[\"predicted_shortage_indicator\"] >= threshold]\n",
    "\n",
    "# Summarize by year and MSA\n",
    "high_risk_summary = high_risk_msas.groupby([\"year\", \"metro_area\"])[\n",
    "    \"predicted_shortage_indicator\"\n",
    "].mean().reset_index()\n",
    "\n",
    "# Sort by year and predicted shortage indicator\n",
    "high_risk_summary = high_risk_summary.sort_values(\n",
    "    by=[\"year\", \"predicted_shortage_indicator\"], ascending=[True, False]\n",
    ")\n",
    "\n",
    "# Manually set the custom legend\n",
    "custom_legend = [\n",
    "    \"Alexandria, VA\", \"Jersey City, NJ\", \"Sandy Springs, GA\", \n",
    "    \"Arlington, VA\", \"Naperville, IL\", \"Cambridge, MA\"\n",
    "]"
   ]
  },
  {
   "cell_type": "code",
   "execution_count": 27,
   "id": "adb33517-991e-4aa3-a543-37f33124b209",
   "metadata": {},
   "outputs": [
    {
     "data": {
      "image/png": "[encoded data removed]",
      "text/plain": [
       "<Figure size 1000x600 with 1 Axes>"
      ]
     },
     "metadata": {},
     "output_type": "display_data"
    },
    {
     "data": {
      "text/plain": [
       "'Plot saved as: ./plots/High_Risk_MSA_Cities_for_Affordable_Housing_Shortages.png'"
      ]
     },
     "execution_count": 27,
     "metadata": {},
     "output_type": "execute_result"
    }
   ],
   "source": [
    "# Step 11: Plot High-Risk MSAs for Affordable Housing Shortages (2025–2030)\n",
    "plt.figure(figsize=(10, 6))\n",
    "\n",
    "for i, metro_area in enumerate(custom_legend):\n",
    "    msa_data = high_risk_summary[high_risk_summary[\"metro_area\"].str.contains(metro_area.split(',')[0])]\n",
    "    plt.plot(\n",
    "        msa_data[\"year\"], \n",
    "        msa_data[\"predicted_shortage_indicator\"], \n",
    "        marker='o', \n",
    "        label=custom_legend[i]  # Use the custom legend names\n",
    "    )\n",
    "\n",
    "# Title and labels\n",
    "plt.title(\"High-Risk MSA Cities for Affordable Housing Shortages\")\n",
    "plt.xlabel(\"Year\")\n",
    "plt.ylabel(\"Predicted Shortage Indicator\")\n",
    "\n",
    "# Custom legend\n",
    "plt.legend(title=\"MSAs\", bbox_to_anchor=(1.05, 1), loc=\"upper left\")\n",
    "\n",
    "# Remove gridlines\n",
    "plt.grid(False)\n",
    "\n",
    "# Save and display the plot\n",
    "plot_directory = \"../plots\"\n",
    "os.makedirs(plot_directory, exist_ok=True)\n",
    "plot_filename = \"High_Risk_MSA_Cities_for_Affordable_Housing_Shortages.png\"\n",
    "plt.tight_layout()\n",
    "plt.savefig(f\"{plot_filename}\")\n",
    "\n",
    "# Show the plot\n",
    "plt.show()\n",
    "\n",
    "# Output the file path for confirmation\n",
    "f\"Plot saved as: {plot_directory}/{plot_filename}\""
   ]
  },
  {
   "cell_type": "markdown",
   "id": "975d3285-a733-4e55-8559-f805da1ecb3f",
   "metadata": {},
   "source": [
    "### How to Read the Plot\n",
    "\n",
    "1. Y-Axis: Predicted Shortage Indicator\n",
    "\n",
    "- The predicted shortage indicator represents a quantitative estimate of the level of affordable housing shortages in a given metro area (MSA) for the forecast years 2025–2030.\n",
    "- A higher value on the Y-axis indicates a greater predicted shortage, meaning more significant affordable housing challenges.\n",
    "- If the indicator is based on factors like the number of cost-burdened households, higher values could reflect a combination of:\n",
    "    - Higher housing costs relative to income.\n",
    "    - Increased demand and limited supply of affordable housing.\n",
    "\n",
    "2. X-Axis: Year (2025–2030)\n",
    "\n",
    "- The x-axis represents the forecast years from 2025 to 2030.\n",
    "- The plot tracks predicted changes in the affordable housing shortage indicator over time for each MSA, based on historical data and extrapolated trends.\n",
    "\n",
    "3. Flat or Rising Lines:\n",
    "\n",
    "- If a metro area (MSA) has a relatively flat line, this suggests that the predicted shortage remains constant over time.\n",
    "- Rising lines indicate that the shortage is expected to increase as time progresses (i.e., the affordable housing situation worsens).\n",
    "\n",
    "4. Comparing MSAs:\n",
    "- By comparing the height and slope of the lines for different MSAs, you can identify which areas are predicted to experience the most significant increases in shortage over the forecast period.\n",
    "- For instance, if Arlington, VA shows a sharp rise in predicted shortage indicators, it suggests that the area might face more severe challenges in housing affordability compared to, say, Jersey City, NJ, if it has a flatter trend.\n",
    "\n",
    "Conclusion:\n",
    "- Higher Y-axis values signal more severe shortages.\n",
    "- Upward trends over the years suggest that the affordable housing situation is likely to worsen in those cities."
   ]
  }
 ],
 "metadata": {
  "kernelspec": {
   "display_name": "Python 3 (ipykernel)",
   "language": "python",
   "name": "python3"
  },
  "language_info": {
   "codemirror_mode": {
    "name": "ipython",
    "version": 3
   },
   "file_extension": ".py",
   "mimetype": "text/x-python",
   "name": "python",
   "nbconvert_exporter": "python",
   "pygments_lexer": "ipython3",
   "version": "3.12.3"
  }
 },
 "nbformat": 4,
 "nbformat_minor": 5
}
